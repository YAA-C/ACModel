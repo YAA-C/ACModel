{
 "cells": [
  {
   "cell_type": "code",
   "execution_count": 1,
   "id": "948473a1-b44d-41e7-a7a8-382cb1462202",
   "metadata": {},
   "outputs": [],
   "source": [
    "import pandas as pd\n",
    "import numpy as np\n",
    "import pickle\n",
    "from sklearn.compose import ColumnTransformer\n",
    "from sklearn.preprocessing import OneHotEncoder\n",
    "pd.set_option('display.max_columns', 500)\n",
    "pd.set_option('display.max_rows', 500)"
   ]
  },
  {
   "cell_type": "code",
   "execution_count": 2,
   "id": "6fe68043-dcd5-410b-bf23-02757e322fd0",
   "metadata": {},
   "outputs": [],
   "source": [
    "df = pd.read_csv(\"./dataset.csv\")"
   ]
  },
  {
   "cell_type": "code",
   "execution_count": 3,
   "id": "bb955b45-22a8-4150-b5fd-214949a047eb",
   "metadata": {},
   "outputs": [],
   "source": [
    "with open(\"./weaponUsedTransformer.pkl\", \"rb\") as f:\n",
    "    weaponUsedTransformer = pickle.loads(f.read())\n",
    "with open(\"./weaponCategoryTransformer.pkl\", \"rb\") as f:\n",
    "    weaponCategoryTransformer = pickle.loads(f.read())"
   ]
  },
  {
   "cell_type": "code",
   "execution_count": 4,
   "id": "3e65773a-0d9e-41e0-a9f3-923d11e4c6fa",
   "metadata": {},
   "outputs": [],
   "source": [
    "df2 = df.drop(['currentTick','playerId','playerName','X','Y','Z', 'yaw', 'pitch', 'targetId','targetName','targetX','targetY','targetZ'], axis=1)"
   ]
  },
  {
   "cell_type": "code",
   "execution_count": 5,
   "id": "594cc6ae-01b0-4f14-9ae4-e28bc8497b1f",
   "metadata": {},
   "outputs": [],
   "source": [
    "def fights(df: pd.DataFrame):\n",
    "    indexes: list = [-1]\n",
    "    indexes.extend(df[df.isnull().all(axis=1)].index.to_list())\n",
    "    for i in range(1, len(indexes)):\n",
    "        prevRowIndex: int = int(indexes[i - 1] + 1)\n",
    "        curRowIndex: int = int(indexes[i])\n",
    "        curDf: pd.DataFrame = df.iloc[prevRowIndex: curRowIndex, :].copy()\n",
    "        curDf.reset_index(inplace = True)\n",
    "        target_column = 'Label'\n",
    "        target = df2[target_column].iloc[prevRowIndex]\n",
    "        curDf.drop(target_column, axis=1, inplace= True)\n",
    "        # dfs.append(curDf)\n",
    "        yield curDf, target"
   ]
  },
  {
   "cell_type": "code",
   "execution_count": 6,
   "id": "108407da-850d-4223-bdae-0541c53999e1",
   "metadata": {},
   "outputs": [],
   "source": [
    "lsdf = list(fights(df2))"
   ]
  },
  {
   "cell_type": "code",
   "execution_count": 7,
   "id": "c20cd8d6-b780-4c11-946e-68ccf940328b",
   "metadata": {},
   "outputs": [
    {
     "data": {
      "text/plain": [
       "109771"
      ]
     },
     "execution_count": 7,
     "metadata": {},
     "output_type": "execute_result"
    }
   ],
   "source": [
    "len(lsdf)"
   ]
  },
  {
   "cell_type": "code",
   "execution_count": 8,
   "id": "86ecb27e-097b-4871-ad69-3bc58b802f6b",
   "metadata": {},
   "outputs": [
    {
     "data": {
      "text/html": [
       "<div>\n",
       "<style scoped>\n",
       "    .dataframe tbody tr th:only-of-type {\n",
       "        vertical-align: middle;\n",
       "    }\n",
       "\n",
       "    .dataframe tbody tr th {\n",
       "        vertical-align: top;\n",
       "    }\n",
       "\n",
       "    .dataframe thead th {\n",
       "        text-align: right;\n",
       "    }\n",
       "</style>\n",
       "<table border=\"1\" class=\"dataframe\">\n",
       "  <thead>\n",
       "    <tr style=\"text-align: right;\">\n",
       "      <th></th>\n",
       "      <th>index</th>\n",
       "      <th>deltaX</th>\n",
       "      <th>deltaY</th>\n",
       "      <th>deltaZ</th>\n",
       "      <th>deltaYaw</th>\n",
       "      <th>deltaPitch</th>\n",
       "      <th>deltaAimArc</th>\n",
       "      <th>isFlashed</th>\n",
       "      <th>isCrouching</th>\n",
       "      <th>isInAir</th>\n",
       "      <th>utilityDmgDone</th>\n",
       "      <th>supportUtilityUsed</th>\n",
       "      <th>KDR</th>\n",
       "      <th>isFiring</th>\n",
       "      <th>targetDeltaX</th>\n",
       "      <th>targetDeltaY</th>\n",
       "      <th>targetDeltaZ</th>\n",
       "      <th>isHurt</th>\n",
       "      <th>dmgDone</th>\n",
       "      <th>distToTarget</th>\n",
       "      <th>targetHitArea</th>\n",
       "      <th>weaponUsed</th>\n",
       "      <th>weaponCategory</th>\n",
       "      <th>isScoping</th>\n",
       "      <th>isTargetBlind</th>\n",
       "      <th>shotTargetThroughSmoke</th>\n",
       "      <th>targetReturnedDmg</th>\n",
       "    </tr>\n",
       "  </thead>\n",
       "  <tbody>\n",
       "    <tr>\n",
       "      <th>0</th>\n",
       "      <td>0</td>\n",
       "      <td>0.0</td>\n",
       "      <td>0.0</td>\n",
       "      <td>0.0</td>\n",
       "      <td>0.0</td>\n",
       "      <td>0.0</td>\n",
       "      <td>0.0</td>\n",
       "      <td>0.0</td>\n",
       "      <td>0.0</td>\n",
       "      <td>False</td>\n",
       "      <td>0.0</td>\n",
       "      <td>2.0</td>\n",
       "      <td>1.0</td>\n",
       "      <td>True</td>\n",
       "      <td>0.0</td>\n",
       "      <td>0.0</td>\n",
       "      <td>0.0</td>\n",
       "      <td>True</td>\n",
       "      <td>28.0</td>\n",
       "      <td>1195.281448</td>\n",
       "      <td>2.0</td>\n",
       "      <td>weapon_galilar</td>\n",
       "      <td>weapon_category_ar</td>\n",
       "      <td>False</td>\n",
       "      <td>0.0</td>\n",
       "      <td>False</td>\n",
       "      <td>113.0</td>\n",
       "    </tr>\n",
       "  </tbody>\n",
       "</table>\n",
       "</div>"
      ],
      "text/plain": [
       "   index  deltaX  deltaY  deltaZ  deltaYaw  deltaPitch  deltaAimArc  \\\n",
       "0      0     0.0     0.0     0.0       0.0         0.0          0.0   \n",
       "\n",
       "   isFlashed  isCrouching isInAir  utilityDmgDone  supportUtilityUsed  KDR  \\\n",
       "0        0.0          0.0   False             0.0                 2.0  1.0   \n",
       "\n",
       "  isFiring  targetDeltaX  targetDeltaY  targetDeltaZ isHurt  dmgDone  \\\n",
       "0     True           0.0           0.0           0.0   True     28.0   \n",
       "\n",
       "   distToTarget  targetHitArea      weaponUsed      weaponCategory isScoping  \\\n",
       "0   1195.281448            2.0  weapon_galilar  weapon_category_ar     False   \n",
       "\n",
       "   isTargetBlind shotTargetThroughSmoke  targetReturnedDmg  \n",
       "0            0.0                  False              113.0  "
      ]
     },
     "execution_count": 8,
     "metadata": {},
     "output_type": "execute_result"
    }
   ],
   "source": [
    "lsdf[0][0]"
   ]
  },
  {
   "cell_type": "code",
   "execution_count": 9,
   "id": "7c2cd57c-57da-44c2-a405-5f13a02ddd76",
   "metadata": {},
   "outputs": [
    {
     "data": {
      "text/plain": [
       "False"
      ]
     },
     "execution_count": 9,
     "metadata": {},
     "output_type": "execute_result"
    }
   ],
   "source": [
    "lsdf[0][1]"
   ]
  },
  {
   "cell_type": "code",
   "execution_count": 10,
   "id": "a77e04e5-23d2-430f-9cf2-bd34b2b749de",
   "metadata": {
    "scrolled": true
   },
   "outputs": [],
   "source": [
    "X = []\n",
    "Y = []\n",
    "\n",
    "i = 0\n",
    "for features, target in lsdf:\n",
    "    features.fillna(-1, inplace=True)\n",
    "\n",
    "    features['isInAir'] = features['isInAir'].astype(int).values\n",
    "    features['isFiring'] = features['isFiring'].astype(int).values\n",
    "    features['isHurt'] = features['isHurt'].astype(int).values\n",
    "    features['isScoping'] = features['isScoping'].astype(int).values\n",
    "    features['shotTargetThroughSmoke'] = features['shotTargetThroughSmoke'].astype(int).values\n",
    "        \n",
    "    features[\"deltaX\"] = features[\"deltaX\"].astype(float).values / 64\n",
    "    features[\"deltaY\"] = features[\"deltaY\"].astype(float).values / 64\n",
    "    features[\"deltaZ\"] = features[\"deltaZ\"].astype(float).values / 64\n",
    "    features[\"deltaYaw\"] = features[\"deltaYaw\"].astype(float).values / 64\n",
    "    features[\"deltaPitch\"] = features[\"deltaPitch\"].astype(float).values / 64\n",
    "    features[\"deltaAimArc\"] = features[\"deltaAimArc\"].astype(float).values / 64\n",
    "    features[\"utilityDmgDone\"] = features[\"utilityDmgDone\"].astype(float).values / 64\n",
    "    features[\"targetDeltaX\"] = features[\"targetDeltaX\"].astype(float).values / 64\n",
    "    features[\"targetDeltaY\"] = features[\"targetDeltaY\"].astype(float).values / 64\n",
    "    features[\"targetDeltaZ\"] = features[\"targetDeltaZ\"].astype(float).values / 64\n",
    "    features[\"dmgDone\"] = features[\"dmgDone\"].astype(float).values / 64\n",
    "    features[\"distToTarget\"] = features[\"distToTarget\"].astype(float).values / 128\n",
    "    features[\"targetReturnedDmg\"] = features[\"targetReturnedDmg\"].astype(float).values / 64\n",
    "    \n",
    "    features['weaponUsed'] = features['weaponUsed'].replace(-1, \"none\")\n",
    "    features['weaponCategory'] = features['weaponCategory'].replace(-1, \"none\")\n",
    "        \n",
    "    features['weaponUsed'] = weaponUsedTransformer.transform(features['weaponUsed'])\n",
    "    features['weaponCategory'] = weaponCategoryTransformer.transform(features['weaponCategory'])\n",
    "\n",
    "    X.append(features)\n",
    "    Y.append(target)"
   ]
  },
  {
   "cell_type": "code",
   "execution_count": 11,
   "id": "30293894-578e-42dd-b05d-2749215e7386",
   "metadata": {},
   "outputs": [
    {
     "data": {
      "text/plain": [
       "(1, 27, 1)"
      ]
     },
     "execution_count": 11,
     "metadata": {},
     "output_type": "execute_result"
    }
   ],
   "source": [
    "X[0].to_numpy()[:, :, np.newaxis].shape"
   ]
  },
  {
   "cell_type": "code",
   "execution_count": 12,
   "id": "67043a7e-decf-4822-8c87-4b9ecdef1797",
   "metadata": {},
   "outputs": [
    {
     "name": "stdout",
     "output_type": "stream",
     "text": [
      "Max Rows: 1\n"
     ]
    }
   ],
   "source": [
    "max_rows = max(df.shape[0] for df in X)\n",
    "print(\"Max Rows:\", max_rows)"
   ]
  },
  {
   "cell_type": "code",
   "execution_count": 13,
   "id": "d3ca35b7-7424-4a31-bc57-a9e6743be3dd",
   "metadata": {},
   "outputs": [],
   "source": [
    "num_samples = len(X)\n",
    "num_columns = X[0].shape[1]\n",
    "data_array = np.zeros((num_samples, max_rows, num_columns))\n",
    "\n",
    "# Iterate over the DataFrames and fill the array\n",
    "for i, df in enumerate(X):\n",
    "    data_array[i, :df.shape[0], :] = df.values"
   ]
  },
  {
   "cell_type": "code",
   "execution_count": 14,
   "id": "5cb4ad52-d8ca-4804-98e0-7badd29546e5",
   "metadata": {},
   "outputs": [
    {
     "data": {
      "text/plain": [
       "(109771, 1, 27)"
      ]
     },
     "execution_count": 14,
     "metadata": {},
     "output_type": "execute_result"
    }
   ],
   "source": [
    "data_array.shape"
   ]
  },
  {
   "cell_type": "code",
   "execution_count": 15,
   "id": "b18bca33-bd17-4138-ae9c-dbf23d085170",
   "metadata": {},
   "outputs": [],
   "source": [
    "np.save('X.npy', data_array)"
   ]
  },
  {
   "cell_type": "code",
   "execution_count": 16,
   "id": "11b3767c-172e-4fd5-b51f-bb19c21b2ec7",
   "metadata": {},
   "outputs": [],
   "source": [
    "Y_array = np.array(Y)"
   ]
  },
  {
   "cell_type": "code",
   "execution_count": 17,
   "id": "13e81b8c-1a35-45b5-8399-40e1509732d4",
   "metadata": {},
   "outputs": [],
   "source": [
    "np.save('Y.npy', Y_array)"
   ]
  },
  {
   "cell_type": "code",
   "execution_count": 18,
   "id": "6cde8d9c-5b1b-41d8-a3c4-e702adcb37d1",
   "metadata": {},
   "outputs": [
    {
     "data": {
      "text/plain": [
       "Label\n",
       "False    84296\n",
       "True     25475\n",
       "Name: count, dtype: int64"
      ]
     },
     "execution_count": 18,
     "metadata": {},
     "output_type": "execute_result"
    }
   ],
   "source": [
    "df2['Label'].value_counts()"
   ]
  }
 ],
 "metadata": {
  "kernelspec": {
   "display_name": "Python 3 (ipykernel)",
   "language": "python",
   "name": "python3"
  },
  "language_info": {
   "codemirror_mode": {
    "name": "ipython",
    "version": 3
   },
   "file_extension": ".py",
   "mimetype": "text/x-python",
   "name": "python",
   "nbconvert_exporter": "python",
   "pygments_lexer": "ipython3",
   "version": "3.10.0"
  }
 },
 "nbformat": 4,
 "nbformat_minor": 5
}
